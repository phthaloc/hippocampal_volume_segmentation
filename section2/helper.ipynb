{
 "cells": [
  {
   "cell_type": "code",
   "execution_count": 1,
   "metadata": {},
   "outputs": [],
   "source": [
    "import numpy as np"
   ]
  },
  {
   "cell_type": "code",
   "execution_count": 2,
   "metadata": {},
   "outputs": [],
   "source": [
    "keys = range(260)"
   ]
  },
  {
   "cell_type": "code",
   "execution_count": 3,
   "metadata": {},
   "outputs": [],
   "source": []
  },
  {
   "cell_type": "code",
   "execution_count": 4,
   "metadata": {},
   "outputs": [],
   "source": [
    "keys = np.array(keys)\n",
    "np.random.shuffle(keys)"
   ]
  },
  {
   "cell_type": "code",
   "execution_count": 10,
   "metadata": {},
   "outputs": [],
   "source": [
    "train_size = 0.8\n",
    "valid_size = 0.1\n",
    "test_size = 0.1"
   ]
  },
  {
   "cell_type": "code",
   "execution_count": 11,
   "metadata": {},
   "outputs": [
    {
     "data": {
      "text/plain": [
       "array([115, 223, 245,  89,  56,  88, 122, 199, 254, 136, 178,  98, 226,\n",
       "       242, 160, 167,  83,  96, 194, 202, 241, 127,  42, 186, 187, 247,\n",
       "        60,  75,   6, 138, 174,  99, 222,  61, 171,   3, 161, 198, 195,\n",
       "       177, 229,  55, 104, 191,  48, 123, 117,  28,  79,  49,  97,  17,\n",
       "        37,  25,  21,  26,  46,  90, 165,  53, 107, 139, 219, 215,  40,\n",
       "       185,  51, 230, 101, 114,  84, 153, 238, 234,  34, 237, 258, 227,\n",
       "       134, 207,  39,  93,  95, 156, 224, 256,  77, 119,  24,  54, 149,\n",
       "       214,  50,  23,   1,  87,  45, 236, 151, 102, 216, 217, 200,  43,\n",
       "        62, 246, 172, 130, 168, 250, 232,  74, 176,  59, 154,  12,  71,\n",
       "       170, 197, 159,  19,  57,  66, 243, 188,  63, 211, 148, 140, 193,\n",
       "        15, 169,  10, 145,  36, 163,   4,  92, 116, 218,  22,  81,  52,\n",
       "        13,  72,  20, 111,  35,  70, 120,  29, 196,  69, 150, 166, 213,\n",
       "       126, 239, 255,  64, 192, 184, 128,  82, 182, 142, 235,  76,  32,\n",
       "       180, 257, 141, 152, 173, 162, 133, 221,  47, 220,   9, 209,  14,\n",
       "        94,  16, 201,  85,  33, 157, 251,  78,  91, 131, 183, 124,  67,\n",
       "        11, 225, 249, 109, 108, 100, 135, 244,  18, 147, 233,  38,  68])"
      ]
     },
     "execution_count": 11,
     "metadata": {},
     "output_type": "execute_result"
    }
   ],
   "source": [
    "keys[:int(train_size*len(keys))]"
   ]
  },
  {
   "cell_type": "code",
   "execution_count": 12,
   "metadata": {},
   "outputs": [
    {
     "data": {
      "text/plain": [
       "array([  2,  31, 240, 179, 105, 164, 110, 132, 248,   0,  58,   5, 259,\n",
       "       144, 103, 210, 129, 252,  41, 106, 137, 121, 146, 125,  86, 212])"
      ]
     },
     "execution_count": 12,
     "metadata": {},
     "output_type": "execute_result"
    }
   ],
   "source": [
    "keys[int(train_size*len(keys)):int((train_size+valid_size)*len(keys))]"
   ]
  },
  {
   "cell_type": "code",
   "execution_count": 13,
   "metadata": {},
   "outputs": [
    {
     "data": {
      "text/plain": [
       "array([ 30, 175,  65, 203, 205,  44,  27,  80, 253, 181, 113, 143, 204,\n",
       "         7, 208, 158, 112, 155, 190, 231, 228,   8,  73, 118, 189, 206])"
      ]
     },
     "execution_count": 13,
     "metadata": {},
     "output_type": "execute_result"
    }
   ],
   "source": [
    "keys[int((train_size+valid_size)*len(keys)):]"
   ]
  },
  {
   "cell_type": "code",
   "execution_count": 9,
   "metadata": {},
   "outputs": [
    {
     "data": {
      "text/plain": [
       "array([  0,   1,   2,   3,   4,   5,   6,   7,   8,   9,  10,  11,  12,\n",
       "        13,  14,  15,  16,  17,  18,  19,  20,  21,  22,  23,  24,  25,\n",
       "        26,  27,  28,  29,  30,  31,  32,  33,  34,  35,  36,  37,  38,\n",
       "        39,  40,  41,  42,  43,  44,  45,  46,  47,  48,  49,  50,  51,\n",
       "        52,  53,  54,  55,  56,  57,  58,  59,  60,  61,  62,  63,  64,\n",
       "        65,  66,  67,  68,  69,  70,  71,  72,  73,  74,  75,  76,  77,\n",
       "        78,  79,  80,  81,  82,  83,  84,  85,  86,  87,  88,  89,  90,\n",
       "        91,  92,  93,  94,  95,  96,  97,  98,  99, 100, 101, 102, 103,\n",
       "       104, 105, 106, 107, 108, 109, 110, 111, 112, 113, 114, 115, 116,\n",
       "       117, 118, 119, 120, 121, 122, 123, 124, 125, 126, 127, 128, 129,\n",
       "       130, 131, 132, 133, 134, 135, 136, 137, 138, 139, 140, 141, 142,\n",
       "       143, 144, 145, 146, 147, 148, 149, 150, 151, 152, 153, 154, 155,\n",
       "       156, 157, 158, 159, 160, 161, 162, 163, 164, 165, 166, 167, 168,\n",
       "       169, 170, 171, 172, 173, 174, 175, 176, 177, 178, 179, 180, 181,\n",
       "       182, 183, 184, 185, 186, 187, 188, 189, 190, 191, 192, 193, 194,\n",
       "       195, 196, 197, 198, 199, 200, 201, 202, 203, 204, 205, 206, 207,\n",
       "       208, 209, 210, 211, 212, 213, 214, 215, 216, 217, 218, 219, 220,\n",
       "       221, 222, 223, 224, 225, 226, 227, 228, 229, 230, 231, 232, 233,\n",
       "       234, 235, 236, 237, 238, 239, 240, 241, 242, 243, 244, 245, 246,\n",
       "       247, 248, 249, 250, 251, 252, 253, 254, 255, 256, 257, 258, 259])"
      ]
     },
     "execution_count": 9,
     "metadata": {},
     "output_type": "execute_result"
    }
   ],
   "source": [
    "np.array(keys)"
   ]
  },
  {
   "cell_type": "code",
   "execution_count": null,
   "metadata": {},
   "outputs": [],
   "source": []
  }
 ],
 "metadata": {
  "kernelspec": {
   "display_name": "py38pytorch",
   "language": "python",
   "name": "py38pytorch"
  },
  "language_info": {
   "codemirror_mode": {
    "name": "ipython",
    "version": 3
   },
   "file_extension": ".py",
   "mimetype": "text/x-python",
   "name": "python",
   "nbconvert_exporter": "python",
   "pygments_lexer": "ipython3",
   "version": "3.8.3"
  }
 },
 "nbformat": 4,
 "nbformat_minor": 4
}
